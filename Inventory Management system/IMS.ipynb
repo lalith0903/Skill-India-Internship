{
 "cells": [
  {
   "cell_type": "markdown",
   "metadata": {},
   "source": [
    "# INVENTORY MANAGEMENT SYSTEM"
   ]
  },
  {
   "cell_type": "markdown",
   "metadata": {},
   "source": [
    "# Skill Internship in AI "
   ]
  },
  {
   "cell_type": "markdown",
   "metadata": {},
   "source": [
    "# PROJECT-1"
   ]
  },
  {
   "cell_type": "code",
   "execution_count": 1,
   "metadata": {},
   "outputs": [],
   "source": [
    "import json\n",
    "import time"
   ]
  },
  {
   "cell_type": "code",
   "execution_count": 2,
   "metadata": {},
   "outputs": [],
   "source": [
    "with open(r'C:\\Users\\LALITH KUMAR\\Desktop\\3-2 Semester\\Skills_Internship\\record.json') as f:\n",
    "    data = json.load(f)"
   ]
  },
  {
   "cell_type": "code",
   "execution_count": 3,
   "metadata": {},
   "outputs": [
    {
     "data": {
      "text/plain": [
       "{'1001': {'name': 'Choco Cake', 'qn': 29, 'pr': 100},\n",
       " '1002': {'name': 'Milk Cake', 'pr': 800, 'qn': 100},\n",
       " '1003': {'name': 'Drink', 'pr': 85, 'qn': 100},\n",
       " '1004': {'name': 'Candy', 'pr': 5, 'qn': 1000},\n",
       " '1005': {'name': 'Pen', 'pr': 20, 'qn': 100},\n",
       " '1006': {'name': 'Phone', 'pr': 50000, 'qn': 10},\n",
       " '1007': {'name': 'Mic', 'pr': 1500, 'qn': 0},\n",
       " '1008': {'name': 'Case', 'pr': 599, 'qn': 5},\n",
       " '1009': {'name': 'Keyboard', 'pr': 1999, 'qn': 10}}"
      ]
     },
     "execution_count": 3,
     "metadata": {},
     "output_type": "execute_result"
    }
   ],
   "source": [
    "data"
   ]
  },
  {
   "cell_type": "code",
   "execution_count": 4,
   "metadata": {},
   "outputs": [
    {
     "data": {
      "text/plain": [
       "dict_keys(['1001', '1002', '1003', '1004', '1005', '1006', '1007', '1008', '1009'])"
      ]
     },
     "execution_count": 4,
     "metadata": {},
     "output_type": "execute_result"
    }
   ],
   "source": [
    "data.keys()"
   ]
  },
  {
   "cell_type": "code",
   "execution_count": 5,
   "metadata": {},
   "outputs": [
    {
     "data": {
      "text/plain": [
       "dict_items([('1001', {'name': 'Choco Cake', 'qn': 29, 'pr': 100}), ('1002', {'name': 'Milk Cake', 'pr': 800, 'qn': 100}), ('1003', {'name': 'Drink', 'pr': 85, 'qn': 100}), ('1004', {'name': 'Candy', 'pr': 5, 'qn': 1000}), ('1005', {'name': 'Pen', 'pr': 20, 'qn': 100}), ('1006', {'name': 'Phone', 'pr': 50000, 'qn': 10}), ('1007', {'name': 'Mic', 'pr': 1500, 'qn': 0}), ('1008', {'name': 'Case', 'pr': 599, 'qn': 5}), ('1009', {'name': 'Keyboard', 'pr': 1999, 'qn': 10})])"
      ]
     },
     "execution_count": 5,
     "metadata": {},
     "output_type": "execute_result"
    }
   ],
   "source": [
    "data.items()"
   ]
  },
  {
   "cell_type": "code",
   "execution_count": 6,
   "metadata": {
    "scrolled": true
   },
   "outputs": [
    {
     "name": "stdout",
     "output_type": "stream",
     "text": [
      "{'name': 'Choco Cake', 'qn': 29, 'pr': 100}\n"
     ]
    }
   ],
   "source": [
    "print(data['1001'])"
   ]
  },
  {
   "cell_type": "code",
   "execution_count": 7,
   "metadata": {},
   "outputs": [
    {
     "name": "stdout",
     "output_type": "stream",
     "text": [
      "Choco Cake\n"
     ]
    }
   ],
   "source": [
    "print(data['1001']['name'])"
   ]
  },
  {
   "cell_type": "code",
   "execution_count": 8,
   "metadata": {},
   "outputs": [],
   "source": [
    "with open(r'C:\\Users\\LALITH KUMAR\\Desktop\\3-2 Semester\\Skills_Internship\\sales.json') as s:\n",
    "    sales = json.load(s)"
   ]
  },
  {
   "cell_type": "code",
   "execution_count": 9,
   "metadata": {},
   "outputs": [
    {
     "data": {
      "text/plain": [
       "{'1': {'prod_id': '1001',\n",
       "  'time_pr': 'Wed Sep  8 12:12:56 2021',\n",
       "  'bill': 500,\n",
       "  'qn': 5,\n",
       "  'pr': 100,\n",
       "  'pr_name': 'Choco Cake'}}"
      ]
     },
     "execution_count": 9,
     "metadata": {},
     "output_type": "execute_result"
    }
   ],
   "source": [
    "sales"
   ]
  },
  {
   "cell_type": "code",
   "execution_count": 10,
   "metadata": {},
   "outputs": [
    {
     "name": "stdout",
     "output_type": "stream",
     "text": [
      "*****************************************\n",
      "*****************WELCOME*****************\n",
      "*****************************************\n",
      "Enter the product ID:1002\n",
      "Enter the quantity required to you: 2\n",
      "Name: Milk Cake\n",
      "Quantity: 2\n",
      "Price per Quantity: 800\n",
      "*****************************************\n",
      "Bill: 1600\n",
      "Thank You for Comming\n"
     ]
    }
   ],
   "source": [
    "print(\"*****************************************\")\n",
    "print(\"*****************WELCOME*****************\")\n",
    "print(\"*****************************************\")\n",
    "\n",
    "pro_id = str(input(\"Enter the product ID:\")) #entering the product id\n",
    "qty = int(input(\"Enter the quantity required to you: \")) #entering the qty required by you\n",
    "#cus_id = int(input(\"Enter the Customer ID: \"))\n",
    "if pro_id in data.keys():\n",
    "    if qty <= data[pro_id]['qn']:\n",
    "        amount = qty * data[pro_id]['pr']\n",
    "        data[pro_id]['qn'] = data[pro_id]['qn'] - qty\n",
    "\n",
    "            #if cus_id in customer_id:\n",
    "                #amount = amount - 0.2 * amount\n",
    "\n",
    "        print(\"Name: \" + data[pro_id]['name'])\n",
    "        print(\"Quantity: \"+ str(qty))\n",
    "        print(\"Price per Quantity: \"+ str(data[pro_id]['pr']))\n",
    "        print(\"*****************************************\")\n",
    "        print(\"Bill: \"+ str(amount))\n",
    "\n",
    "\n",
    "        sales[str(len(sales)+1)] = {'prod_id': pro_id, \n",
    "                                    'time_pr': time.ctime(), \n",
    "                                    'Bill': amount, \n",
    "                                    'qn': qty , \n",
    "                                    'pr': data[pro_id]['pr'], \n",
    "                                    'pr_name': data[pro_id]['name']}\n",
    "    else:\n",
    "        print(\"We do not have enough quantities that you asked\")\n",
    "        print(\"Do you want to buy \"+ str(data[pro_id]['qn']) + \"quantities?\")\n",
    "        p = input(\"Type Y for Yes and N for No\")\n",
    "        if p == \"Y\" or p == \"y\" or p == \"Yes\" or p == \"yes\":\n",
    "            amount = data[pro_id]['qn'] * data[pro_id]['pr']\n",
    "            data[pro_id]['qn'] = 0\n",
    "\n",
    "            sales[str(len(sales)+1)] = {'prod_id': pro_id, \n",
    "                                        'time_pr': time.ctime(), \n",
    "                                        'Bill': amount, \n",
    "                                        'qn': data[pro_id]['qn'], \n",
    "                                        'pr': data[pro_id]['pr'], \n",
    "                                       'pr_name': data[pro_id]['name']}\n",
    "            print(\"Name: \" + data[pro_id]['name'])\n",
    "            print(\"Quantity: \"+ str(data[pro_id]['qn']))\n",
    "            print(\"Price per Quantity: \"+ str(data[pro_id]['pr']))\n",
    "            print(\"*****************************************\")\n",
    "            print(\"Bill: \"+ amount)\n",
    "\n",
    "else:\n",
    "    print(\"You have entered an invalid product ID\")\n",
    "    print(\"Please enter the valid product ID\")\n",
    "print(\"Thank You for Comming\")"
   ]
  },
  {
   "cell_type": "code",
   "execution_count": 11,
   "metadata": {},
   "outputs": [
    {
     "data": {
      "text/plain": [
       "{'1': {'prod_id': '1001',\n",
       "  'time_pr': 'Wed Sep  8 12:12:56 2021',\n",
       "  'bill': 500,\n",
       "  'qn': 5,\n",
       "  'pr': 100,\n",
       "  'pr_name': 'Choco Cake'},\n",
       " '2': {'prod_id': '1002',\n",
       "  'time_pr': 'Mon Sep 13 20:04:03 2021',\n",
       "  'Bill': 1600,\n",
       "  'qn': 2,\n",
       "  'pr': 800,\n",
       "  'pr_name': 'Milk Cake'}}"
      ]
     },
     "execution_count": 11,
     "metadata": {},
     "output_type": "execute_result"
    }
   ],
   "source": [
    "sales"
   ]
  },
  {
   "cell_type": "code",
   "execution_count": 12,
   "metadata": {},
   "outputs": [
    {
     "data": {
      "text/plain": [
       "{'1001': {'name': 'Choco Cake', 'qn': 29, 'pr': 100},\n",
       " '1002': {'name': 'Milk Cake', 'pr': 800, 'qn': 98},\n",
       " '1003': {'name': 'Drink', 'pr': 85, 'qn': 100},\n",
       " '1004': {'name': 'Candy', 'pr': 5, 'qn': 1000},\n",
       " '1005': {'name': 'Pen', 'pr': 20, 'qn': 100},\n",
       " '1006': {'name': 'Phone', 'pr': 50000, 'qn': 10},\n",
       " '1007': {'name': 'Mic', 'pr': 1500, 'qn': 0},\n",
       " '1008': {'name': 'Case', 'pr': 599, 'qn': 5},\n",
       " '1009': {'name': 'Keyboard', 'pr': 1999, 'qn': 10}}"
      ]
     },
     "execution_count": 12,
     "metadata": {},
     "output_type": "execute_result"
    }
   ],
   "source": [
    "data"
   ]
  },
  {
   "cell_type": "code",
   "execution_count": null,
   "metadata": {},
   "outputs": [],
   "source": []
  }
 ],
 "metadata": {
  "kernelspec": {
   "display_name": "Python 3",
   "language": "python",
   "name": "python3"
  },
  "language_info": {
   "codemirror_mode": {
    "name": "ipython",
    "version": 3
   },
   "file_extension": ".py",
   "mimetype": "text/x-python",
   "name": "python",
   "nbconvert_exporter": "python",
   "pygments_lexer": "ipython3",
   "version": "3.8.5"
  }
 },
 "nbformat": 4,
 "nbformat_minor": 4
}
